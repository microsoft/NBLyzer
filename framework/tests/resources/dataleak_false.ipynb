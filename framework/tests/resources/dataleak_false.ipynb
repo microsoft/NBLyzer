{
 "cells": [
  {
   "cell_type": "code",
   "execution_count": null,
   "metadata": {},
   "outputs": [],
   "source": [
    "import pandas as pd\n",
    "import numpy as np\n",
    "from sklearn.preprocessing import MinMaxScaler\n",
    "from sklearn.naive_bayes import GaussianNB\n",
    "\n",
    "# load dataframe\n",
    "df = np.genfromtxt(\"data.csv\", delimiter=',', dtype=None)\n",
    "\n",
    "# preprocessing tools\n",
    "min_max_scaler = MinMaxScaler()"
   ]
  },
  {
   "cell_type": "code",
   "execution_count": null,
   "metadata": {},
   "outputs": [],
   "source": [
    "# feature/tabel selection\n",
    "X = df\n",
    "y = df"
   ]
  },
  {
   "cell_type": "code",
   "execution_count": null,
   "metadata": {},
   "outputs": [],
   "source": [
    "# train/test split\n",
    "X_train = X.iloc[:3]\n",
    "X_train_normalized = min_max_scaler.fit_transform(X_train)\n",
    "y_train = y.iloc[:3]\n",
    "\n",
    "X_test = X.iloc[4:6]\n",
    "X_test_normalized = min_max_scaler.fit_transform(X_test)\n",
    "y_test = y.iloc[4:6]"
   ]
  },
  {
   "cell_type": "code",
   "execution_count": null,
   "metadata": {},
   "outputs": [],
   "source": [
    "# initiate model\n",
    "clf = GaussianNB()\n",
    "\n",
    "# train model\n",
    "clf.fit(X_train_normalized, y_train)"
   ]
  },
  {
   "cell_type": "code",
   "execution_count": null,
   "metadata": {},
   "outputs": [],
   "source": [
    "# predict labels\n",
    "pred = clf.predict(X_test_normalized)"
   ]
  }
 ],
 "metadata": {
  "interpreter": {
   "hash": "04635d289a519a1410467dd0afb0db42f9184808881ca68b2eb5a687a20a5a94"
  },
  "kernelspec": {
   "display_name": "Python 3.7.9 64-bit",
   "language": "python",
   "name": "python3"
  },
  "language_info": {
   "name": "python",
   "version": "3.7.9"
  },
  "orig_nbformat": 4
 },
 "nbformat": 4,
 "nbformat_minor": 2
}
