{
 "cells": [
  {
   "cell_type": "code",
   "execution_count": null,
   "id": "87f6df13",
   "metadata": {},
   "outputs": [],
   "source": [
    "x = 3"
   ]
  },
  {
   "cell_type": "code",
   "execution_count": null,
   "id": "acc2205f",
   "metadata": {},
   "outputs": [],
   "source": [
    "y = 5"
   ]
  },
  {
   "cell_type": "markdown",
   "id": "42765c10",
   "metadata": {},
   "source": [
    "Some random text"
   ]
  }
 ],
 "metadata": {
  "kernelspec": {
   "display_name": "Python 3.10.5 64-bit",
   "language": "python",
   "name": "python3"
  },
  "language_info": {
   "extension": ".py",
   "mimetype": "text/plain",
   "name": "python",
   "version": "3.10.5"
  },
  "vscode": {
   "interpreter": {
    "hash": "8f91001d8d303347d46b8e57194f813c4300d3651b311e49c66d26d3b8f93dfe"
   }
  }
 },
 "nbformat": 4,
 "nbformat_minor": 5
}
