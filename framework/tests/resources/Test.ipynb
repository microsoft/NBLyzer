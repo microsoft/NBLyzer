{
 "cells": [
  {
   "cell_type": "code",
   "execution_count": null,
   "id": "87f6df13",
   "metadata": {},
   "outputs": [],
   "source": [
    "x = 3"
   ]
  },
  {
   "cell_type": "code",
   "execution_count": null,
   "id": "acc2205f",
   "metadata": {},
   "outputs": [],
   "source": [
    "temp = x\n",
    "d = temp + 2"
   ]
  },
  {
   "cell_type": "code",
   "execution_count": null,
   "id": "d4883d8c",
   "metadata": {},
   "outputs": [],
   "source": [
    "t = x"
   ]
  },
  {
   "cell_type": "code",
   "execution_count": null,
   "id": "766c1a1c",
   "metadata": {},
   "outputs": [],
   "source": [
    "temp = x\n",
    "t = temp\n",
    "d  = temp"
   ]
  },
  {
   "cell_type": "code",
   "execution_count": null,
   "id": "2c3af5b8",
   "metadata": {},
   "outputs": [],
   "source": [
    "z = d + t"
   ]
  },
  {
   "cell_type": "code",
   "execution_count": null,
   "id": "d2a5774a",
   "metadata": {
    "scrolled": true
   },
   "outputs": [],
   "source": [
    "z"
   ]
  },
  {
   "cell_type": "code",
   "execution_count": null,
   "id": "5f336683",
   "metadata": {},
   "outputs": [],
   "source": [
    "f = 0\n",
    "print(f)"
   ]
  }
 ],
 "metadata": {
  "kernelspec": {
   "display_name": "Python 3.10.0 64-bit",
   "language": "python",
   "name": "python3"
  },
  "language_info": {
   "extension": ".py",
   "mimetype": "text/plain",
   "name": "python",
   "version": "3.10.0"
  },
  "vscode": {
   "interpreter": {
    "hash": "2469a70536e4d2335a2ea8907942d0699c37342a371ac185bdb5b0aa6f073890"
   }
  }
 },
 "nbformat": 4,
 "nbformat_minor": 5
}
